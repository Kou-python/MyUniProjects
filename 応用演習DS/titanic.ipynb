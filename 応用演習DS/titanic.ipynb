{
  "cells": [
    {
      "cell_type": "code",
      "execution_count": 5,
      "metadata": {
        "colab": {
          "base_uri": "https://localhost:8080/"
        },
        "id": "xdqXWOK_I6Of",
        "outputId": "4e89e3ca-1f71-485d-ce59-4ff8e873fca6"
      },
      "outputs": [
        {
          "ename": "",
          "evalue": "",
          "output_type": "error",
          "traceback": [
            "\u001b[1;31m現在のセルまたは前のセルでコードを実行中に、カーネルがクラッシュしました。エラーの原因を特定するには、セル内のコードを確認してください。詳細については、<a href='https://aka.ms/vscodeJupyterKernelCrash'>こちら</a> をクリックしてください。さらなる詳細については、Jupyter [log] (command:jupyter.viewOutput) を参照してください。"
          ]
        }
      ],
      "source": [
        "import pandas as pd\n",
        "import keras\n",
        "import numpy as np\n",
        "import os, random\n",
        "import tensorflow as tf\n",
        "import matplotlib.pyplot as plt\n",
        "\n",
        "x_train = pd.read_csv('x_train.csv')\n",
        "y_train = pd.read_csv('y_train.csv')\n",
        "x_test = pd.read_csv('x_test.csv')\n",
        "y_test = pd.read_csv('y_test.csv')\n",
        "\n",
        "from keras.layers import Dense,Dropout\n",
        "from keras.models import Sequential\n",
        "from keras.callbacks import EarlyStopping\n",
        "\n",
        "#モデルの初期化\n",
        "model = Sequential()\n",
        "\n",
        "#層の構築\n",
        "model.add(keras.layers.Flatten(input_shape=[16]))       # 入力層\n",
        "model.add(keras.layers.Dense(64, activation=\"relu\"))    # 隠れ層1\n",
        "model.add(keras.layers.Dropout(0.5))\n",
        "model.add(keras.layers.Dense(32, activation=\"relu\"))    # 隠れ層2\n",
        "model.add(keras.layers.Dense(1, activation=\"sigmoid\"))  # 出力層\n",
        "\n",
        "#モデルの構築\n",
        "model.compile(optimizer = 'adam', loss='binary_crossentropy', metrics='acc')\n",
        "\n",
        "#モデルの構造を表示\n",
        "model.summary()\n",
        "\n",
        "log = model.fit(x_train, y_train, epochs=40, batch_size=128,verbose=1,\n",
        "                callbacks=[EarlyStopping(monitor='val_loss',min_delta=0,patience=100,verbose=1)],\n",
        "                validation_split=0.2)\n"
      ]
    },
    {
      "cell_type": "code",
      "execution_count": 3,
      "metadata": {
        "id": "gyabQbbPMWSe"
      },
      "outputs": [],
      "source": [
        "def plot_loss_accuracy_graph(log):\n",
        "  # 青い線で誤差の履歴をプロットします、検証時誤差は黒い線で\n",
        "  plt.plot(log.history['loss'], \"-D\", color=\"blue\", label=\"train_loss\", linewidth=2)\n",
        "  plt.plot(log.history['val_loss'], \"-D\", color=\"black\", label=\"val_loss\", linewidth=2)\n",
        "  plt.title('LOSS')\n",
        "  plt.xlabel('Epochs')\n",
        "  plt.ylabel('Loss')\n",
        "  plt.legend(loc='upper right')\n",
        "  plt.show()\n",
        "\n",
        "  # 緑の線で精度の履歴をプロットします、検証時制度は黒い線で\n",
        "  plt.plot(log.history['acc'],\"-o\", color=\"green\", label=\"train_accuracy\", linewidth=2)\n",
        "  plt.plot(log.history['val_acc'],\"-o\",color=\"black\", label=\"val_accuracy\", linewidth=2)\n",
        "  plt.title('ACCURACY')\n",
        "  plt.xlabel('Epochs')\n",
        "  plt.ylabel('Accuracy')\n",
        "  plt.legend(loc=\"lower right\")\n",
        "  plt.show()\n"
      ]
    },
    {
      "cell_type": "code",
      "execution_count": 4,
      "metadata": {
        "colab": {
          "base_uri": "https://localhost:8080/",
          "height": 927
        },
        "id": "hX-0JbOVMYKC",
        "outputId": "8854a1f3-416f-4a12-84e2-1fa5da347576"
      },
      "outputs": [
        {
          "ename": "NameError",
          "evalue": "name 'log' is not defined",
          "output_type": "error",
          "traceback": [
            "\u001b[0;31m---------------------------------------------------------------------------\u001b[0m",
            "\u001b[0;31mNameError\u001b[0m                                 Traceback (most recent call last)",
            "\u001b[0;32m/var/folders/2n/4mvhnpp56z915d7f1sf7qwy40000gn/T/ipykernel_31953/3656090542.py\u001b[0m in \u001b[0;36m<module>\u001b[0;34m\u001b[0m\n\u001b[0;32m----> 1\u001b[0;31m \u001b[0mplot_loss_accuracy_graph\u001b[0m\u001b[0;34m(\u001b[0m\u001b[0mlog\u001b[0m\u001b[0;34m)\u001b[0m\u001b[0;34m\u001b[0m\u001b[0;34m\u001b[0m\u001b[0m\n\u001b[0m",
            "\u001b[0;31mNameError\u001b[0m: name 'log' is not defined"
          ]
        }
      ],
      "source": [
        "plot_loss_accuracy_graph(log)\n"
      ]
    },
    {
      "cell_type": "code",
      "execution_count": null,
      "metadata": {
        "colab": {
          "base_uri": "https://localhost:8080/"
        },
        "id": "848ZPK5FmWHM",
        "outputId": "f16553c1-c24a-4a2b-82d2-6bd3fcecb401"
      },
      "outputs": [],
      "source": [
        "result_score = model.evaluate(x_test, y_test)\n",
        "\n",
        "print('検証誤差:', result_score[0])\n",
        "print('検証正確率:', result_score[1])\n"
      ]
    }
  ],
  "metadata": {
    "colab": {
      "provenance": []
    },
    "kernelspec": {
      "display_name": "Python 3",
      "name": "python3"
    },
    "language_info": {
      "codemirror_mode": {
        "name": "ipython",
        "version": 3
      },
      "file_extension": ".py",
      "mimetype": "text/x-python",
      "name": "python",
      "nbconvert_exporter": "python",
      "pygments_lexer": "ipython3",
      "version": "3.10.9"
    }
  },
  "nbformat": 4,
  "nbformat_minor": 0
}
